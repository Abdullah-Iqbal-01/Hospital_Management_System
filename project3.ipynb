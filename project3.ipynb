{
  "nbformat": 4,
  "nbformat_minor": 0,
  "metadata": {
    "colab": {
      "provenance": []
    },
    "kernelspec": {
      "name": "python3",
      "display_name": "Python 3"
    },
    "language_info": {
      "name": "python"
    }
  },
  "cells": [
    {
      "cell_type": "markdown",
      "source": [
        "**Hospital Management System:**\n",
        "   - Classes: `Patient`, `Doctor`, `Appointment`.\n",
        "   - Implement methods for scheduling appointments and viewing patient details.\n",
        "   - Use abstraction for general methods like scheduling."
      ],
      "metadata": {
        "id": "5YSZEUkGUMz9"
      }
    },
    {
      "cell_type": "code",
      "source": [
        "from typing import List, Optional\n",
        "\n",
        "class Doctor:\n",
        "    def __init__(self, name: str, specialty: str) -> None:\n",
        "        self.name: str = name\n",
        "        self.specialty: str = specialty\n",
        "        self.appointments: List[Appointment] = []  # List to store appointments\n",
        "\n",
        "    def __str__(self) -> str:\n",
        "        return f\"Doctor: {self.name}, Specialty: {self.specialty}\"\n",
        "\n",
        "    def __repr__(self) -> str:\n",
        "        return f\"Doctor: {self.name}, Specialty: {self.specialty}\"\n",
        "\n",
        "    def schedule_appointment(self, patient: \"Patient\", date: str, time: str) -> \"Appointment\":\n",
        "        \"\"\"Schedules an appointment for the doctor with a patient.\"\"\"\n",
        "        appointment = Appointment(patient, self, date, time)\n",
        "        self.appointments.append(appointment)\n",
        "        patient.appointments.append(appointment)\n",
        "        return appointment\n",
        "\n",
        "    def get_appointments(self) -> List[\"Appointment\"]:\n",
        "        \"\"\"Returns a list of all appointments for the doctor.\"\"\"\n",
        "        return self.appointments\n",
        "\n",
        "    def cancel_appointment(self, appointment: \"Appointment\") -> bool:\n",
        "        \"\"\"Cancels a specific appointment for the doctor.\"\"\"\n",
        "        if appointment in self.appointments:\n",
        "            self.appointments.remove(appointment)\n",
        "            appointment.patient.appointments.remove(appointment)\n",
        "            return True\n",
        "        return False\n",
        "\n",
        "\n",
        "class Patient:\n",
        "    def __init__(self, name: str, age: int) -> None:\n",
        "        self.name: str = name\n",
        "        self.age: int = age\n",
        "        self.appointments: List[Appointment] = []  # List to store appointments\n",
        "\n",
        "    def __str__(self) -> str:\n",
        "        return f\"Patient: {self.name}, Age: {self.age}\"\n",
        "\n",
        "    def __repr__(self) -> str:\n",
        "        return f\"Patient: {self.name}, Age: {self.age}\"\n",
        "\n",
        "    def schedule_appointment(self, doctor: Doctor, date: str, time: str) -> \"Appointment\":\n",
        "        \"\"\"Schedules an appointment with a doctor.\"\"\"\n",
        "        appointment = Appointment(self, doctor, date, time)\n",
        "        self.appointments.append(appointment)\n",
        "        doctor.appointments.append(appointment)\n",
        "        return appointment\n",
        "\n",
        "    def get_appointments(self) -> List[\"Appointment\"]:\n",
        "        \"\"\"Returns a list of all appointments for the patient.\"\"\"\n",
        "        return self.appointments\n",
        "\n",
        "    def cancel_appointment(self, appointment: \"Appointment\") -> bool:\n",
        "        \"\"\"Cancels a specific appointment for the patient.\"\"\"\n",
        "        if appointment in self.appointments:\n",
        "            self.appointments.remove(appointment)\n",
        "            appointment.doctor.appointments.remove(appointment)\n",
        "            return True\n",
        "        return False\n",
        "\n",
        "\n",
        "class Appointment:\n",
        "    def __init__(self, patient: Patient, doctor: Doctor, date: str, time: str) -> None:\n",
        "        self.patient: Patient = patient  # Patient object\n",
        "        self.doctor: Doctor = doctor    # Doctor object\n",
        "        self.date: str = date\n",
        "        self.time: str = time\n",
        "\n",
        "    def __str__(self) -> str:\n",
        "        return f\"Appointment with Dr. {self.doctor.name} for {self.patient.name} on {self.date} at {self.time}\"\n",
        "\n",
        "    def __repr__(self) -> str:\n",
        "        return f\"Appointment with Dr. {self.doctor.name} for {self.patient.name} on {self.date} at {self.time}\"\n",
        "\n",
        "\n",
        "class AppointmentManager:\n",
        "    @staticmethod\n",
        "    def find_appointment_by_date(appointments: List[Appointment], date: str) -> List[Appointment]:\n",
        "        \"\"\"Finds all appointments on a specific date.\"\"\"\n",
        "        return [appointment for appointment in appointments if appointment.date == date]\n",
        "\n",
        "    @staticmethod\n",
        "    def find_appointment_by_patient(appointments: List[Appointment], patient_name: str) -> Optional[Appointment]:\n",
        "        \"\"\"Finds an appointment by the patient's name.\"\"\"\n",
        "        for appointment in appointments:\n",
        "            if appointment.patient.name == patient_name:\n",
        "                return appointment\n",
        "        return None\n"
      ],
      "metadata": {
        "id": "xGM8ZF7qUQfe"
      },
      "execution_count": 3,
      "outputs": []
    },
    {
      "cell_type": "code",
      "source": [
        "# Creating Doctor and Patient instances\n",
        "doctor1 = Doctor(\"Dr. Abdullah\", \"General Medicine\")\n",
        "patient1 = Patient(\"Alice\", 30)\n",
        "patient2 = Patient(\"Bob\", 25)\n",
        "\n",
        "# Scheduling appointments\n",
        "appointment1 = doctor1.schedule_appointment(patient1, \"2023-11-15\", \"10:00 AM\")\n",
        "appointment2 = doctor1.schedule_appointment(patient2, \"2023-11-16\", \"2:30 PM\")\n",
        "\n",
        "# Viewing appointments\n",
        "print(\"Doctor's Appointments:\", doctor1.get_appointments())\n",
        "print(\"Patient 1 Appointments:\", patient1.get_appointments())\n",
        "\n",
        "# Finding appointments\n",
        "appointments_on_date = AppointmentManager.find_appointment_by_date(doctor1.get_appointments(), \"2023-11-15\")\n",
        "print(\"Appointments on 2023-11-15:\", appointments_on_date)\n",
        "\n",
        "# Canceling an appointment\n",
        "doctor1.cancel_appointment(appointment1)\n",
        "print(\"Doctor's Appointments after cancellation:\", doctor1.get_appointments())\n"
      ],
      "metadata": {
        "colab": {
          "base_uri": "https://localhost:8080/"
        },
        "id": "JKBf7XfBX6xU",
        "outputId": "ced462ee-a364-4d5d-b1dd-4bb23b45b7e4"
      },
      "execution_count": 4,
      "outputs": [
        {
          "output_type": "stream",
          "name": "stdout",
          "text": [
            "Doctor's Appointments: [Appointment with Dr. Dr. Abdullah for Alice on 2023-11-15 at 10:00 AM, Appointment with Dr. Dr. Abdullah for Bob on 2023-11-16 at 2:30 PM]\n",
            "Patient 1 Appointments: [Appointment with Dr. Dr. Abdullah for Alice on 2023-11-15 at 10:00 AM]\n",
            "Appointments on 2023-11-15: [Appointment with Dr. Dr. Abdullah for Alice on 2023-11-15 at 10:00 AM]\n",
            "Doctor's Appointments after cancellation: [Appointment with Dr. Dr. Abdullah for Bob on 2023-11-16 at 2:30 PM]\n"
          ]
        }
      ]
    }
  ]
}